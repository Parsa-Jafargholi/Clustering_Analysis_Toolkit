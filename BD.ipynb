{
 "cells": [
  {
   "cell_type": "code",
   "execution_count": null,
   "metadata": {
    "colab": {
     "base_uri": "https://localhost:8080/"
    },
    "id": "ZhoUGDiNotli",
    "outputId": "0c2465be-0d34-424d-fe01-e241009fefce"
   },
   "outputs": [
    {
     "name": "stdout",
     "output_type": "stream",
     "text": [
      "Collecting pyclustering\n",
      "  Downloading pyclustering-0.10.1.2.tar.gz (2.6 MB)\n",
      "\u001b[2K     \u001b[90m━━━━━━━━━━━━━━━━━━━━━━━━━━━━━━━━━━━━━━━━\u001b[0m \u001b[32m2.6/2.6 MB\u001b[0m \u001b[31m9.8 MB/s\u001b[0m eta \u001b[36m0:00:00\u001b[0m\n",
      "\u001b[?25h  Preparing metadata (setup.py) ... \u001b[?25l\u001b[?25hdone\n",
      "Requirement already satisfied: scipy>=1.1.0 in /usr/local/lib/python3.10/dist-packages (from pyclustering) (1.11.4)\n",
      "Requirement already satisfied: matplotlib>=3.0.0 in /usr/local/lib/python3.10/dist-packages (from pyclustering) (3.7.1)\n",
      "Requirement already satisfied: numpy>=1.15.2 in /usr/local/lib/python3.10/dist-packages (from pyclustering) (1.23.5)\n",
      "Requirement already satisfied: Pillow>=5.2.0 in /usr/local/lib/python3.10/dist-packages (from pyclustering) (9.4.0)\n",
      "Requirement already satisfied: contourpy>=1.0.1 in /usr/local/lib/python3.10/dist-packages (from matplotlib>=3.0.0->pyclustering) (1.2.0)\n",
      "Requirement already satisfied: cycler>=0.10 in /usr/local/lib/python3.10/dist-packages (from matplotlib>=3.0.0->pyclustering) (0.12.1)\n",
      "Requirement already satisfied: fonttools>=4.22.0 in /usr/local/lib/python3.10/dist-packages (from matplotlib>=3.0.0->pyclustering) (4.46.0)\n",
      "Requirement already satisfied: kiwisolver>=1.0.1 in /usr/local/lib/python3.10/dist-packages (from matplotlib>=3.0.0->pyclustering) (1.4.5)\n",
      "Requirement already satisfied: packaging>=20.0 in /usr/local/lib/python3.10/dist-packages (from matplotlib>=3.0.0->pyclustering) (23.2)\n",
      "Requirement already satisfied: pyparsing>=2.3.1 in /usr/local/lib/python3.10/dist-packages (from matplotlib>=3.0.0->pyclustering) (3.1.1)\n",
      "Requirement already satisfied: python-dateutil>=2.7 in /usr/local/lib/python3.10/dist-packages (from matplotlib>=3.0.0->pyclustering) (2.8.2)\n",
      "Requirement already satisfied: six>=1.5 in /usr/local/lib/python3.10/dist-packages (from python-dateutil>=2.7->matplotlib>=3.0.0->pyclustering) (1.16.0)\n",
      "Building wheels for collected packages: pyclustering\n",
      "  Building wheel for pyclustering (setup.py) ... \u001b[?25l\u001b[?25hdone\n",
      "  Created wheel for pyclustering: filename=pyclustering-0.10.1.2-py3-none-any.whl size=2395103 sha256=4a5de465fa0a1a5f335443decd6626dbafd0db2f20f0fff9a2653c4ca8a12dba\n",
      "  Stored in directory: /root/.cache/pip/wheels/b5/42/97/11eee99f5c1e4fdfc170f0a54f9c9eb195df66edb4cf69f449\n",
      "Successfully built pyclustering\n",
      "Installing collected packages: pyclustering\n",
      "Successfully installed pyclustering-0.10.1.2\n"
     ]
    }
   ],
   "source": [
    "!pip install pyclustering"
   ]
  },
  {
   "cell_type": "code",
   "execution_count": null,
   "metadata": {
    "id": "WzcjAJekpk8c"
   },
   "outputs": [],
   "source": [
    "from pyclustering.cluster import cluster_visualizer\n",
    "from pyclustering.cluster.cure import cure\n",
    "from pyclustering.utils import read_sample\n",
    "from pyclustering.samples.definitions import FCPS_SAMPLES"
   ]
  },
  {
   "cell_type": "code",
   "execution_count": null,
   "metadata": {
    "colab": {
     "base_uri": "https://localhost:8080/"
    },
    "id": "BDxtUAHdpyjW",
    "outputId": "44128392-3927-4669-82b5-c568bc28c6a2"
   },
   "outputs": [
    {
     "data": {
      "text/plain": [
       "[[2.0, 3.0],\n",
       " [0.387577, 0.268546],\n",
       " [0.17678, 0.582963],\n",
       " [3.277701, 0.814082],\n",
       " [0.387577, 0.17678],\n",
       " [0.268546, 0.582963],\n",
       " [2.031145, 0.244597],\n",
       " [0.188677, 0.46128],\n",
       " [3.525472, 0.265579],\n",
       " [2.229583, 0.682189],\n",
       " [3.392074, 0.420976],\n",
       " [3.589815, 0.832527],\n",
       " [1.227873, 0.810909],\n",
       " [1.300699, 0.146538],\n",
       " [3.596968, 0.421791],\n",
       " [3.106757, 0.779664],\n",
       " [0.221139, 0.612603],\n",
       " [1.496841, 0.495985],\n",
       " [2.860498, 0.535719],\n",
       " [1.45071, 0.142352],\n",
       " [1.745799, 0.066373],\n",
       " [1.4048, 0.32968],\n",
       " [1.7696, 0.777809],\n",
       " [0.464511, 0.672442],\n",
       " [2.750803, 0.16552],\n",
       " [1.571006, 0.091428],\n",
       " [1.18166, 0.857799],\n",
       " [0.661957, 0.612812],\n",
       " [0.828567, 0.798048],\n",
       " [3.313914, 0.216602],\n",
       " [3.625645, 0.538592],\n",
       " [3.611238, 0.584716],\n",
       " [2.904519, 0.465036],\n",
       " [3.080431, 0.24549],\n",
       " [3.851167, 0.574214],\n",
       " [0.944956, 0.077006],\n",
       " [3.834215, 0.224878],\n",
       " [2.179064, 0.784896],\n",
       " [2.716449, 0.944268],\n",
       " [0.02978, 0.931252],\n",
       " [0.095525, 0.349743],\n",
       " [3.835506, 0.889721],\n",
       " [1.142732, 0.811691],\n",
       " [3.747439, 0.654886],\n",
       " [0.948862, 0.122011],\n",
       " [0.160755, 0.702042],\n",
       " [3.288779, 0.737797],\n",
       " [1.35625, 0.029101],\n",
       " [0.91626, 0.59616],\n",
       " [1.252876, 0.500998],\n",
       " [2.471178, 0.39643],\n",
       " [2.364922, 0.992772],\n",
       " [2.172301, 0.283717],\n",
       " [0.671267, 0.055467],\n",
       " [2.165402, 0.152],\n",
       " [2.661288, 0.467768],\n",
       " [1.92646, 0.74119],\n",
       " [1.899647, 0.649203],\n",
       " [3.82986, 0.726794],\n",
       " [1.133497, 0.516173],\n",
       " [2.309857, 0.767935],\n",
       " [1.371371, 0.956664],\n",
       " [0.151858, 0.284416],\n",
       " [2.096938, 0.411357],\n",
       " [1.30049, 0.720155],\n",
       " [3.534799, 0.181775],\n",
       " [1.217877, 0.460971],\n",
       " [2.726977, 0.699328],\n",
       " [0.682141, 0.054686],\n",
       " [0.837813, 0.912877],\n",
       " [0.799211, 0.501879],\n",
       " [0.042015, 0.689603],\n",
       " [0.520977, 0.079651],\n",
       " [0.71972, 0.445045],\n",
       " [0.197504, 0.36273],\n",
       " [1.724494, 0.670107],\n",
       " [3.57454, 0.08528],\n",
       " [1.416691, 0.723741],\n",
       " [3.037057, 0.548241],\n",
       " [3.644992, 0.349585],\n",
       " [0.049575, 0.013442],\n",
       " [1.023898, 0.977225],\n",
       " [1.815563, 0.32859],\n",
       " [2.312471, 0.520445],\n",
       " [0.855281, 0.42998],\n",
       " [0.760641, 0.724534],\n",
       " [1.48494, 0.793583],\n",
       " [2.725697, 0.764628],\n",
       " [2.789323, 0.243674],\n",
       " [3.803611, 0.25148],\n",
       " [1.591552, 0.431951],\n",
       " [3.102531, 0.674293],\n",
       " [0.565235, 0.679348],\n",
       " [0.985402, 0.187597],\n",
       " [2.948159, 0.311962],\n",
       " [1.323618, 0.644543],\n",
       " [0.552512, 0.648435],\n",
       " [0.635387, 0.474052],\n",
       " [3.928676, 0.204357],\n",
       " [0.780925, 0.800335],\n",
       " [1.872623, 0.814694],\n",
       " [2.759808, 0.162941],\n",
       " [3.504794, 0.648843],\n",
       " [3.683266, 0.59175],\n",
       " [2.441121, 0.097041],\n",
       " [0.031457, 0.462131],\n",
       " [3.387011, 0.07938],\n",
       " [1.982598, 0.588441],\n",
       " [2.696483, 0.24238],\n",
       " [1.159278, 0.190088],\n",
       " [0.576024, 0.996298],\n",
       " [3.538351, 0.281543],\n",
       " [3.304712, 0.77258],\n",
       " [0.438501, 0.884463],\n",
       " [1.937908, 0.82629],\n",
       " [1.434005, 0.338369],\n",
       " [3.112876, 0.655144],\n",
       " [0.413395, 0.150636],\n",
       " [1.358768, 0.479656],\n",
       " [1.731313, 0.95869],\n",
       " [2.130866, 0.004658],\n",
       " [0.057906, 0.933944],\n",
       " [1.365225, 0.699019],\n",
       " [3.101071, 0.982575],\n",
       " [0.331075, 0.263808],\n",
       " [1.086791, 0.353972],\n",
       " [1.996396, 0.528335],\n",
       " [3.845884, 0.795806],\n",
       " [0.985853, 0.434387],\n",
       " [1.688165, 0.938172],\n",
       " [0.161953, 0.829518],\n",
       " [0.287702, 0.857928],\n",
       " [0.972789, 0.916516],\n",
       " [1.30506, 0.621873],\n",
       " [3.515395, 0.462665],\n",
       " [1.736284, 0.812699],\n",
       " [1.788111, 0.112125],\n",
       " [0.692963, 0.831389],\n",
       " [0.459059, 0.283671],\n",
       " [1.421594, 0.942622],\n",
       " [3.222115, 0.997386],\n",
       " [3.055062, 0.603635],\n",
       " [3.439667, 0.514822],\n",
       " [2.742587, 0.603127],\n",
       " [0.258403, 0.395579],\n",
       " [1.707936, 0.209115],\n",
       " [3.110911, 0.81924],\n",
       " [2.199103, 0.812362],\n",
       " [1.784882, 0.387625],\n",
       " [1.886291, 0.684541],\n",
       " [2.886793, 0.942807],\n",
       " [2.7774, 0.706607],\n",
       " [1.463492, 0.491627],\n",
       " [2.073286, 0.916573],\n",
       " [3.728174, 0.954035],\n",
       " [0.0787, 0.263543],\n",
       " [1.37351, 0.62181],\n",
       " [0.698877, 0.482423],\n",
       " [0.448893, 0.098618],\n",
       " [0.735566, 0.119708],\n",
       " [2.724216, 0.58073],\n",
       " [1.635384, 0.533324],\n",
       " [1.288393, 0.847085],\n",
       " [1.18528, 0.543564],\n",
       " [0.452272, 0.70928],\n",
       " [1.020964, 0.583399],\n",
       " [3.465723, 0.52496],\n",
       " [2.532696, 0.959479],\n",
       " [0.985995, 0.008335],\n",
       " [2.750285, 0.620354],\n",
       " [2.577899, 0.245998],\n",
       " [3.036657, 0.930898],\n",
       " [1.564616, 0.954967],\n",
       " [1.518451, 0.978359],\n",
       " [3.142274, 0.434848],\n",
       " [1.483197, 0.185676],\n",
       " [1.293469, 0.897792],\n",
       " [3.176521, 0.047388],\n",
       " [0.398666, 0.166009],\n",
       " [1.717029, 0.111247],\n",
       " [2.777236, 0.026691],\n",
       " [2.702432, 0.510408],\n",
       " [1.807774, 0.762573],\n",
       " [2.882574, 0.514512],\n",
       " [3.29973, 0.231124],\n",
       " [0.725724, 0.585824],\n",
       " [2.92698, 0.244504],\n",
       " [1.434889, 0.489006],\n",
       " [3.61203, 0.621951],\n",
       " [1.258017, 0.242269],\n",
       " [1.286561, 0.568048],\n",
       " [0.689474, 0.760472],\n",
       " [0.598052, 0.279905],\n",
       " [3.499457, 0.153595],\n",
       " [3.093691, 0.158748],\n",
       " [1.431273, 0.568599],\n",
       " [0.460369, 0.295192],\n",
       " [0.884156, 0.513333],\n",
       " [3.275009, 0.432164],\n",
       " [1.164767, 0.62918],\n",
       " [0.039219, 0.052828],\n",
       " [2.412745, 0.512431],\n",
       " [0.833625, 0.325255],\n",
       " [0.725273, 3.965634],\n",
       " [0.573147, 2.923034],\n",
       " [1.177763, 2.565923],\n",
       " [0.661644, 3.973707],\n",
       " [0.652245, 2.253018],\n",
       " [0.812158, 3.260725],\n",
       " [0.652892, 1.693079],\n",
       " [0.963136, 4.958545],\n",
       " [1.328618, 3.566781],\n",
       " [1.49669, 5.272268],\n",
       " [1.152723, 3.543348],\n",
       " [1.369882, 2.380564],\n",
       " [1.49389, 4.247095],\n",
       " [1.34549, 5.278332],\n",
       " [0.819666, 4.616232],\n",
       " [1.107822, 4.153609],\n",
       " [1.283312, 4.321069],\n",
       " [0.748762, 1.619142],\n",
       " [0.821916, 4.852253],\n",
       " [0.90795, 3.163114],\n",
       " [1.060966, 1.963245],\n",
       " [1.20534, 4.321613],\n",
       " [1.477937, 5.03948],\n",
       " [1.097946, 2.953946],\n",
       " [0.938634, 3.012962],\n",
       " [0.780331, 5.235518],\n",
       " [0.903332, 4.814365],\n",
       " [0.5591, 3.571814],\n",
       " [1.173636, 2.044423],\n",
       " [1.347315, 5.234],\n",
       " [1.288732, 2.683106],\n",
       " [1.376571, 2.091436],\n",
       " [0.892292, 3.81059],\n",
       " [0.703477, 3.956213],\n",
       " [1.142235, 4.972135],\n",
       " [1.001787, 4.217102],\n",
       " [0.777779, 4.493622],\n",
       " [0.652697, 4.836891],\n",
       " [0.721173, 2.798064],\n",
       " [0.967501, 5.367249],\n",
       " [1.334662, 2.597372],\n",
       " [1.368845, 1.77],\n",
       " [0.776253, 4.234287],\n",
       " [0.746947, 4.667021],\n",
       " [1.411469, 4.074821],\n",
       " [0.740597, 4.389994],\n",
       " [1.184165, 3.031102],\n",
       " [1.452709, 4.177391],\n",
       " [1.341934, 4.679407],\n",
       " [0.759816, 3.996869],\n",
       " [1.273906, 1.534234],\n",
       " [0.891859, 5.165834],\n",
       " [1.011748, 3.99935],\n",
       " [1.054506, 2.504006],\n",
       " [1.021894, 4.436951],\n",
       " [1.249096, 3.361231],\n",
       " [0.596855, 2.324431],\n",
       " [0.64177, 4.391472],\n",
       " [1.041153, 1.863353],\n",
       " [1.220983, 4.447128],\n",
       " [0.850268, 2.060747],\n",
       " [1.312062, 1.586404],\n",
       " [0.707436, 3.389818],\n",
       " [1.019011, 4.508529],\n",
       " [0.783086, 2.760037],\n",
       " [0.7404, 1.656725],\n",
       " [0.5208, 1.722157],\n",
       " [1.381679, 1.903451],\n",
       " [0.658734, 2.418634],\n",
       " [0.611377, 1.720026],\n",
       " [1.099438, 3.206013],\n",
       " [1.361092, 4.829104],\n",
       " [0.876255, 2.389184],\n",
       " [0.690748, 5.011891],\n",
       " [0.701393, 3.863155],\n",
       " [1.253097, 4.650538],\n",
       " [1.057211, 3.862135],\n",
       " [1.241162, 1.7],\n",
       " [0.840611, 4.937659],\n",
       " [0.519795, 2.816374],\n",
       " [1.23516, 3.869624],\n",
       " [0.584467, 1.922548],\n",
       " [1.418398, 1.71],\n",
       " [1.370529, 3.740063],\n",
       " [0.966071, 4.68502],\n",
       " [0.748149, 4.103231],\n",
       " [0.533105, 2.028217],\n",
       " [0.813012, 4.871033],\n",
       " [1.380626, 5.043905],\n",
       " [1.038899, 5.385811],\n",
       " [1.174998, 4.070992],\n",
       " [1.482927, 3.678969],\n",
       " [0.795556, 4.257588],\n",
       " [0.550885, 1.687598],\n",
       " [0.597946, 3.506649],\n",
       " [1.219187, 3.456902],\n",
       " [1.422764, 3.827562],\n",
       " [1.265363, 1.935044],\n",
       " [1.139539, 2.153101],\n",
       " [0.668471, 3.331001],\n",
       " [3.841499, 2.712392],\n",
       " [3.265874, 3.353799],\n",
       " [2.419956, 2.641744],\n",
       " [3.131922, 2.59268],\n",
       " [1.919251, 3.015192],\n",
       " [3.653976, 2.494605],\n",
       " [3.21453, 1.966662],\n",
       " [2.781111, 2.277463],\n",
       " [2.402959, 2.802239],\n",
       " [3.182097, 2.135258],\n",
       " [3.198566, 3.048673],\n",
       " [2.505896, 2.598232],\n",
       " [2.983629, 2.547538],\n",
       " [2.700613, 2.653876],\n",
       " [2.507695, 2.471939],\n",
       " [2.878039, 2.268676],\n",
       " [2.568892, 2.687723],\n",
       " [2.69394, 3.019875],\n",
       " [3.527832, 3.153919],\n",
       " [3.203677, 2.218877],\n",
       " [2.777954, 2.822901],\n",
       " [3.78305, 2.08902],\n",
       " [3.304181, 3.017798],\n",
       " [3.977555, 2.505972],\n",
       " [3.263746, 2.587482],\n",
       " [3.045912, 3.185275],\n",
       " [2.879968, 1.668478],\n",
       " [3.233598, 2.545167],\n",
       " [4.229498, 2.065403],\n",
       " [2.379583, 1.876676],\n",
       " [3.162948, 2.754962],\n",
       " [2.428762, 2.33817],\n",
       " [3.541297, 2.33867],\n",
       " [2.638412, 2.533631],\n",
       " [2.783332, 2.32586],\n",
       " [3.186008, 2.274951],\n",
       " [2.027834, 2.851225],\n",
       " [2.191808, 2.17414],\n",
       " [2.681085, 2.396655],\n",
       " [2.987601, 2.69732],\n",
       " [2.783705, 2.178922],\n",
       " [2.726431, 2.496669],\n",
       " [3.236021, 2.751028],\n",
       " [3.104434, 2.561753],\n",
       " [2.393173, 3.532294],\n",
       " [2.597097, 1.977501],\n",
       " [2.878632, 2.90941],\n",
       " [3.326832, 2.811118],\n",
       " [3.196477, 2.166446],\n",
       " [2.653013, 2.265335],\n",
       " [2.855684, 2.526266],\n",
       " [3.032148, 2.495063],\n",
       " [2.70028, 2.469205],\n",
       " [3.716787, 1.876565],\n",
       " [2.51471, 3.181043],\n",
       " [3.02421, 2.312406],\n",
       " [3.157008, 2.537848],\n",
       " [2.756181, 2.614829],\n",
       " [2.742568, 2.867741],\n",
       " [2.592192, 2.704054],\n",
       " [2.626225, 2.598176],\n",
       " [2.508567, 1.939792],\n",
       " [3.099795, 2.887828],\n",
       " [3.283033, 3.137479],\n",
       " [3.23753, 1.924833],\n",
       " [3.104924, 1.886308],\n",
       " [2.502861, 2.470116],\n",
       " [3.619561, 2.532584],\n",
       " [3.154704, 2.162704],\n",
       " [2.889961, 2.274144],\n",
       " [2.669538, 2.488717],\n",
       " [3.391711, 2.002519],\n",
       " [3.041719, 2.793216],\n",
       " [2.94886, 2.523832],\n",
       " [2.974983, 2.559658],\n",
       " [2.85135, 3.138343],\n",
       " [3.041585, 2.1891],\n",
       " [3.27871, 3.120111],\n",
       " [3.154729, 2.922001],\n",
       " [2.993547, 2.433338],\n",
       " [2.452315, 2.625794],\n",
       " [2.833249, 3.067828],\n",
       " [2.972504, 2.630939],\n",
       " [2.882325, 2.690261],\n",
       " [2.810947, 2.659502],\n",
       " [2.286906, 2.470892],\n",
       " [2.895769, 3.025914],\n",
       " [2.395709, 2.891312],\n",
       " [2.873213, 3.188846],\n",
       " [2.678611, 2.335079],\n",
       " [2.767651, 2.726053],\n",
       " [2.288566, 2.79594],\n",
       " [3.37523, 2.588055],\n",
       " [3.366669, 3.025123],\n",
       " [2.849598, 2.751661],\n",
       " [2.636088, 2.056805],\n",
       " [2.9383, 2.321199],\n",
       " [3.080906, 2.209603],\n",
       " [2.404517, 2.641618],\n",
       " [3.248655, 2.297291]]"
      ]
     },
     "execution_count": 6,
     "metadata": {},
     "output_type": "execute_result"
    }
   ],
   "source": [
    "input_data = read_sample(FCPS_SAMPLES.SAMPLE_LSUN)\n",
    "input_data"
   ]
  },
  {
   "cell_type": "code",
   "execution_count": null,
   "metadata": {
    "colab": {
     "base_uri": "https://localhost:8080/",
     "height": 805
    },
    "id": "T9BZBAhuqIMI",
    "outputId": "ec5d5b04-2089-4da8-f0a0-552885ad5598"
   },
   "outputs": [
    {
     "data": {
      "image/png": "[encoded data removed]",
      "text/plain": [
       "<Figure size 640x480 with 1 Axes>"
      ]
     },
     "metadata": {},
     "output_type": "display_data"
    },
    {
     "data": {
      "image/png": "[encoded data removed]",
      "text/plain": [
       "<Figure size 640x480 with 1 Axes>"
      ]
     },
     "execution_count": 9,
     "metadata": {},
     "output_type": "execute_result"
    }
   ],
   "source": [
    "# Create an instance of the CURE algorithm with 3 clusters.\n",
    "cure_instance = cure(input_data, number_cluster=3)\n",
    "cure_instance.process()\n",
    "clusters = cure_instance.get_clusters()\n",
    "\n",
    "# Visualize the clusters.\n",
    "visualizer = cluster_visualizer()\n",
    "visualizer.append_clusters(clusters, input_data)\n",
    "visualizer.show()"
   ]
  },
  {
   "cell_type": "code",
   "execution_count": null,
   "metadata": {
    "id": "mSBBjECHqpeU"
   },
   "outputs": [],
   "source": [
    "from sklearn.cluster import Birch\n",
    "from sklearn.datasets import load_iris\n",
    "import matplotlib.pyplot as plt\n",
    "from sklearn.decomposition import PCA"
   ]
  },
  {
   "cell_type": "code",
   "execution_count": null,
   "metadata": {
    "id": "WIs-W2sCqudo"
   },
   "outputs": [],
   "source": [
    "# Load the Iris dataset\n",
    "iris = load_iris()\n",
    "X = iris.data\n",
    "y = iris.target"
   ]
  },
  {
   "cell_type": "code",
   "execution_count": null,
   "metadata": {
    "colab": {
     "base_uri": "https://localhost:8080/",
     "height": 564
    },
    "id": "Hkpl6PmkrCNv",
    "outputId": "c2660389-c50b-4f97-a1d6-ddd8fb9d677a"
   },
   "outputs": [
    {
     "data": {
      "image/png": "[encoded data removed]",
      "text/plain": [
       "<Figure size 800x600 with 1 Axes>"
      ]
     },
     "metadata": {},
     "output_type": "display_data"
    }
   ],
   "source": [
    "from sklearn.preprocessing import StandardScaler\n",
    "\n",
    "# Standardize the data to have a mean of ~0 and a variance of 1\n",
    "X_std = StandardScaler().fit_transform(X)\n",
    "\n",
    "# Perform PCA to reduce the data to 2 dimensions for visualization\n",
    "pca = PCA(n_components=2)\n",
    "X_pca = pca.fit_transform(X_std)\n",
    "\n",
    "# Plot the PCA-transformed version of the Iris dataset\n",
    "plt.figure(figsize=(8, 6))\n",
    "plt.scatter(X_pca[y == 0, 0], X_pca[y == 0, 1], color='red', label=iris.target_names[0])\n",
    "plt.scatter(X_pca[y == 1, 0], X_pca[y == 1, 1], color='blue', label=iris.target_names[1])\n",
    "plt.scatter(X_pca[y == 2, 0], X_pca[y == 2, 1], color='green', label=iris.target_names[2])\n",
    "\n",
    "# Adding plot title and labels and show legend\n",
    "plt.title('PCA of IRIS dataset')\n",
    "plt.xlabel('Principal Component 1')\n",
    "plt.ylabel('Principal Component 2')\n",
    "plt.legend()\n",
    "\n",
    "# Display the plotted graph\n",
    "plt.show()"
   ]
  },
  {
   "cell_type": "code",
   "execution_count": null,
   "metadata": {
    "colab": {
     "base_uri": "https://localhost:8080/",
     "height": 564
    },
    "id": "ed2QFqwtrXJo",
    "outputId": "7b4491bf-1f22-4489-a659-2ebac24f9516"
   },
   "outputs": [
    {
     "data": {
      "image/png": "[encoded data removed]",
      "text/plain": [
       "<Figure size 800x600 with 1 Axes>"
      ]
     },
     "metadata": {},
     "output_type": "display_data"
    }
   ],
   "source": [
    "# Initialize the Birch clustering algorithm\n",
    "birch_model = Birch(n_clusters=3, threshold=0.5, branching_factor=50)\n",
    "\n",
    "# Fit the model to the PCA-reduced data\n",
    "birch_model.fit(X_pca)\n",
    "\n",
    "# Predict cluster memberships for each sample in X_pca\n",
    "labels = birch_model.predict(X_pca)\n",
    "\n",
    "# Plot the clustered output\n",
    "plt.figure(figsize=(8, 6))\n",
    "plt.scatter(X_pca[labels == 0, 0], X_pca[labels == 0, 1], color='red', label=iris.target_names[0]+' Birch cluster')\n",
    "plt.scatter(X_pca[labels == 1, 0], X_pca[labels == 1, 1], color='blue', label=iris.target_names[1]+' Birch cluster')\n",
    "plt.scatter(X_pca[labels == 2, 0], X_pca[labels == 2, 1], color='green', label=iris.target_names[2]+' Birch cluster')\n",
    "\n",
    "# Adding plot title and labels and show legend\n",
    "plt.title('Birch clustering on the PCA-reduced IRIS dataset')\n",
    "plt.xlabel('Principal Component 1')\n",
    "plt.ylabel('Principal Component 2')\n",
    "plt.legend()\n",
    "\n",
    "# Display the plotted graph\n",
    "plt.show()"
   ]
  },
  {
   "cell_type": "code",
   "execution_count": null,
   "metadata": {
    "colab": {
     "base_uri": "https://localhost:8080/"
    },
    "id": "xurSNwsqSVzN",
    "outputId": "039fbb2f-768a-416e-e756-b01b8fc24a41"
   },
   "outputs": [
    {
     "name": "stdout",
     "output_type": "stream",
     "text": [
      "Collecting pyspark\n",
      "  Downloading pyspark-3.5.0.tar.gz (316.9 MB)\n",
      "\u001b[2K     \u001b[90m━━━━━━━━━━━━━━━━━━━━━━━━━━━━━━━━━━━━━━━━\u001b[0m \u001b[32m316.9/316.9 MB\u001b[0m \u001b[31m3.6 MB/s\u001b[0m eta \u001b[36m0:00:00\u001b[0m\n",
      "\u001b[?25h  Preparing metadata (setup.py) ... \u001b[?25l\u001b[?25hdone\n",
      "Requirement already satisfied: py4j==0.10.9.7 in /usr/local/lib/python3.10/dist-packages (from pyspark) (0.10.9.7)\n",
      "Building wheels for collected packages: pyspark\n",
      "  Building wheel for pyspark (setup.py) ... \u001b[?25l\u001b[?25hdone\n",
      "  Created wheel for pyspark: filename=pyspark-3.5.0-py2.py3-none-any.whl size=317425345 sha256=36afcf5e3fa46d6c4c3a01c843afc63843f50a562fc2a42c4045905a97e64757\n",
      "  Stored in directory: /root/.cache/pip/wheels/41/4e/10/c2cf2467f71c678cfc8a6b9ac9241e5e44a01940da8fbb17fc\n",
      "Successfully built pyspark\n",
      "Installing collected packages: pyspark\n",
      "Successfully installed pyspark-3.5.0\n"
     ]
    }
   ],
   "source": [
    "!pip install pyspark"
   ]
  },
  {
   "cell_type": "code",
   "execution_count": null,
   "metadata": {
    "id": "PinI-PPI2Owh"
   },
   "outputs": [],
   "source": [
    "import pyspark\n",
    "from pyspark.sql import *\n",
    "from pyspark.sql.functions import *\n",
    "from pyspark import SparkContext, SparkConf\n",
    "import csv"
   ]
  },
  {
   "cell_type": "code",
   "execution_count": null,
   "metadata": {
    "id": "ZbdnymicJt11"
   },
   "outputs": [],
   "source": [
    "import csv\n",
    "data = [\n",
    "    [1,2,4,7,9],\n",
    "    [1,2,3,5,9],\n",
    "    [1,2,3,8,9],\n",
    "    [1,2,3,6,9],\n",
    "    [1,2,3,5,9],\n",
    "    [1,2,3,5,9]\n",
    "]\n",
    "filename = 'baskets-history.csv'\n",
    "with open(filename, 'w', newline=\"\") as file:\n",
    "    csvwriter = csv.writer(file)\n",
    "    csvwriter.writerows(data)"
   ]
  },
  {
   "cell_type": "code",
   "execution_count": null,
   "metadata": {
    "id": "oC7Q27utSGyV"
   },
   "outputs": [],
   "source": [
    "import sys\n",
    "import collections\n",
    "\n",
    "def apriori(baskets, support):\n",
    "    ls = []\n",
    "    singleFrequent = collections.defaultdict(int)\n",
    "    baskets = list(baskets)\n",
    "    for basket in baskets:\n",
    "        print(basket)\n",
    "        for item in basket:\n",
    "            if singleFrequent[item] < support:\n",
    "                singleFrequent[item] += 1\n",
    "                if singleFrequent[item] >= support:\n",
    "                    ls.append((item,))\n",
    "                    yield item,\n",
    "    length = 2\n",
    "    while ls:\n",
    "        candidates = set()\n",
    "        for i in range(len(ls) - 1):\n",
    "            set1 = set(ls[i])\n",
    "            for j in range(i + 1, len(ls)):\n",
    "                set2 = set(ls[j])\n",
    "                sets = set1 | set2\n",
    "                if len(sets) == length:\n",
    "                    candidates.add(tuple(sorted(sets)))\n",
    "        frequents = collections.defaultdict(int)\n",
    "        ls = []\n",
    "        for basket in baskets:\n",
    "            basketSet = set(basket)\n",
    "            for candidate in candidates:\n",
    "                if set(candidate).issubset(basketSet):\n",
    "                    if frequents[candidate] >= support:\n",
    "                        continue\n",
    "                    frequents[candidate] += 1\n",
    "                    if frequents[candidate] >= support:\n",
    "                        ls.append(candidate)\n",
    "                        yield candidate\n",
    "        length += 1\n"
   ]
  },
  {
   "cell_type": "code",
   "execution_count": null,
   "metadata": {
    "id": "48bQdmsAqq8o"
   },
   "outputs": [],
   "source": [
    "spark = pyspark.sql.SparkSession.builder.appName(\"SON_algorithm\").getOrCreate()"
   ]
  },
  {
   "cell_type": "code",
   "execution_count": null,
   "metadata": {
    "id": "djMCRKBVrbfq"
   },
   "outputs": [],
   "source": [
    "partitions = 4\n",
    "support = 5"
   ]
  },
  {
   "cell_type": "code",
   "execution_count": null,
   "metadata": {
    "colab": {
     "base_uri": "https://localhost:8080/"
    },
    "id": "xQNf2Nh0nvJi",
    "outputId": "efda7e27-1bd6-4b5c-bdf2-55a1c7fd1b1d"
   },
   "outputs": [
    {
     "name": "stdout",
     "output_type": "stream",
     "text": [
      "+---+---+---+---+---+\n",
      "|_c0|_c1|_c2|_c3|_c4|\n",
      "+---+---+---+---+---+\n",
      "|  1|  2|  4|  7|  9|\n",
      "|  1|  2|  3|  5|  9|\n",
      "|  1|  2|  3|  8|  9|\n",
      "|  1|  2|  3|  6|  9|\n",
      "|  1|  2|  3|  5|  9|\n",
      "|  1|  2|  3|  5|  9|\n",
      "+---+---+---+---+---+\n",
      "\n"
     ]
    }
   ],
   "source": [
    "data = spark.read.format(\"csv\").option(\"header\",\"false\").load('baskets-history.csv')\n",
    "data.show()"
   ]
  }
 ],
 "metadata": {
  "colab": {
   "provenance": []
  },
  "kernelspec": {
   "display_name": "Python 3",
   "name": "python3"
  },
  "language_info": {
   "name": "python"
  }
 },
 "nbformat": 4,
 "nbformat_minor": 0
}
